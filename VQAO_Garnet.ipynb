{
 "cells": [
  {
   "cell_type": "markdown",
   "id": "f7a447fc-d29d-4acc-99c1-928056a33494",
   "metadata": {},
   "source": [
    "<h2> VQAO on IQM Garnet </h2>"
   ]
  },
  {
   "cell_type": "markdown",
   "id": "f743e8cd-34b0-4394-9673-b4ece85f40c8",
   "metadata": {},
   "source": [
    "In this notebook we provide supplementary code for the master's thesis on Variational Quantum Amplitude Optimization.\n",
    "\n",
    "The code is intended for viewing purposes only. To run, the user requires access to price data, Amazon Braket and auxiliary files. \n",
    "For enquiries please contact mxj.thomson@gmail.com"
   ]
  },
  {
   "cell_type": "code",
   "execution_count": 1,
   "id": "34fbde85-ac3b-448e-879b-edc5f5bff020",
   "metadata": {
    "tags": []
   },
   "outputs": [],
   "source": [
    "import time\n",
    "from datetime import timedelta\n",
    "from braket.jobs.metrics import log_metric\n",
    "import pandas as pd\n",
    "import pennylane as qml\n",
    "from pennylane import numpy as np\n",
    "from pypfopt import risk_models\n",
    "from pypfopt import expected_returns\n",
    "from device_helper import DeviceHelper\n",
    "from braket.jobs import hybrid_job\n",
    "from braket.tracking import Tracker\n",
    "from braket.jobs.environment_variables import get_job_name, get_job_device_arn\n",
    "from braket.jobs.metrics_data.definitions import MetricType\n",
    "from braket.jobs import save_job_checkpoint\n",
    "import plotly.graph_objects as go\n",
    "import logging\n",
    "import warnings\n",
    "logger = logging.getLogger()\n",
    "logger.setLevel(logging.WARN)\n",
    "warnings.filterwarnings(\"ignore\")"
   ]
  },
  {
   "cell_type": "code",
   "execution_count": 2,
   "id": "4c511085-6311-4743-b869-74277ea4ddc9",
   "metadata": {
    "tags": []
   },
   "outputs": [],
   "source": [
    "tickers = ['ILUc1', 'CLc1', 'GCPc1', 'ICFc1', 'TIOc1', 'HGc1', 'Sc1', 'LCOc1',\n",
    "           'RBc1', 'SAFc1', 'SRBc1', 'SHHCc1', 'Cc1', 'NGc1', 'TFUBMc1',\n",
    "           'DCIOc1', 'SZZFc1', 'JKMc1', 'PROCNWEMc1', 'FO380SGSWMc1', 'LGOc1',\n",
    "           'JAc1', 'DCOSc1', 'DEGc1', 'DJMc1', 'STFc1', 'SBUc1', 'SCFc1',\n",
    "           'SFUc1', 'SHAUc1', 'SPBc1', 'SHSSc1', 'SZNc1', 'BTCc1', 'CZCc1',\n",
    "           'SNIc1', 'SWRc1']"
   ]
  },
  {
   "cell_type": "code",
   "execution_count": 3,
   "id": "b17e3a39-e5db-4dd0-950e-4be19ce5dbd0",
   "metadata": {
    "tags": []
   },
   "outputs": [],
   "source": [
    "base_directory = 'Data/'  # change if needed\n",
    "dataframes = {}\n",
    "\n",
    "for ticker in tickers:\n",
    "    file_path = f'{base_directory}{ticker}_daily.csv.gz'\n",
    "    ticker = ticker.replace('c1', '')\n",
    "    dataframes[ticker] = pd.read_csv(file_path, parse_dates=True, index_col=\"t\")"
   ]
  },
  {
   "cell_type": "code",
   "execution_count": 4,
   "id": "be19d5ae-042f-4718-b58d-8d367c6136be",
   "metadata": {
    "tags": []
   },
   "outputs": [],
   "source": [
    "prices = pd.DataFrame()\n",
    "\n",
    "for key, df in dataframes.items():\n",
    "    if 'CLOSE' in df.columns:\n",
    "        prices[key] = df['CLOSE']\n",
    "    else:\n",
    "        print(f\"'CLOSE' column not found in {key}\")"
   ]
  },
  {
   "cell_type": "code",
   "execution_count": 5,
   "id": "0a04a4e4-06e2-4012-a9c4-c95ec1621244",
   "metadata": {
    "tags": []
   },
   "outputs": [],
   "source": [
    "np.random.seed(2)\n",
    "perm = np.random.permutation(range(len(prices.columns)))\n",
    "prices = prices.iloc[:, perm]\n",
    "np.random.seed(None)"
   ]
  },
  {
   "cell_type": "code",
   "execution_count": 6,
   "id": "27ec64d6-78ad-44ee-be46-69f6d5ccb36d",
   "metadata": {
    "tags": []
   },
   "outputs": [],
   "source": [
    "N = 16\n",
    "q = 4\n",
    "p = 2\n",
    "n = 4\n",
    "shots = 960"
   ]
  },
  {
   "cell_type": "code",
   "execution_count": 7,
   "id": "90e73139-a24d-478d-b690-bdb18cb92d20",
   "metadata": {
    "tags": []
   },
   "outputs": [],
   "source": [
    "mu = expected_returns.mean_historical_return(prices.iloc[:,:N])\n",
    "S = risk_models.sample_cov(prices.iloc[:,:N]).to_numpy() "
   ]
  },
  {
   "cell_type": "code",
   "execution_count": 8,
   "id": "b30d517b-dfff-4b1e-898a-150c5d4e7f9a",
   "metadata": {
    "tags": []
   },
   "outputs": [],
   "source": [
    "def VQAO(device: qml.Device, N=N, q=q, p=p, n=n):\n",
    "    @qml.qnode(device)\n",
    "    def circuit(params):\n",
    "        qubits = n\n",
    "        depth = p\n",
    "\n",
    "        for qb in range(qubits):\n",
    "            qml.Hadamard(wires=qb)\n",
    "            qml.RY(params[qb], wires=qb)\n",
    "        for d in range(1, depth + 1):\n",
    "            for qb in range(qubits - 1):\n",
    "                # continue\n",
    "                qml.CNOT(wires=[qb, qb + 1])\n",
    "            qml.CNOT(wires=[qubits - 1, 0])\n",
    "            for qb in range(qubits):\n",
    "                qml.RY(params[d * qubits + qb], wires=qb)\n",
    "\n",
    "        return qml.probs(wires=range(qubits))\n",
    "\n",
    "    def objective(w):\n",
    "        return q * np.dot(w, np.dot(S, w)) - np.dot(mu, w)\n",
    "\n",
    "    def cost(params):\n",
    "        probs = circuit(params)\n",
    "        obj = objective(probs)\n",
    "        return obj\n",
    "\n",
    "    def probs(params):\n",
    "        return circuit(params)\n",
    "\n",
    "    return cost, probs"
   ]
  },
  {
   "cell_type": "code",
   "execution_count": 9,
   "id": "2d2123bb-8d3a-431d-af5b-03f14bef3c7e",
   "metadata": {
    "tags": []
   },
   "outputs": [],
   "source": [
    "def run_VQAO(\n",
    "    device: qml.Device, N=N, q=q, p=p, n=n, step_size=0.01,\n",
    "    n_iterations=300, seed=3\n",
    "):\n",
    "\n",
    "    cost, probs = VQAO(N=N, q=q, p=p, n=n, device=device)\n",
    "\n",
    "    num_params = (1 + p) * n\n",
    "    optimizer = qml.AdamOptimizer(stepsize=step_size)\n",
    "    np.random.seed(seed)\n",
    "    params = np.random.uniform(low=-np.pi/2, high=np.pi/2,\n",
    "                               size=num_params, requires_grad=True)\n",
    "    np.random.seed(None)\n",
    "    total_time = 0.\n",
    "\n",
    "    print(\"Optimization start\")\n",
    "    for iteration in range(n_iterations):\n",
    "        if (iteration + 1) % 50 == 0:\n",
    "            print(f\">>>>>>> - Iteration step {iteration + 1}\")\n",
    "        t0 = time.time()\n",
    "        params, cost_before = optimizer.step_and_cost(cost, params)\n",
    "        t1 = time.time()\n",
    "        total_time += float(t1 - t0)\n",
    "\n",
    "        log_metric(metric_name=\"cost\", value=float(cost_before),\n",
    "                   iteration_number=iteration)\n",
    "        log_metric(metric_name=\"wall-time\", value=float(t1 - t0),\n",
    "                   iteration_number=iteration)\n",
    "        log_metric(metric_name=\"total-wall-time\", value=float(total_time),\n",
    "                   iteration_number=iteration)\n",
    "        for i in range(num_params):\n",
    "            log_metric(metric_name=\"theta{}\".format(i), value=float(params[i]),\n",
    "                       iteration_number=iteration)\n",
    "\n",
    "        save_job_checkpoint(\n",
    "            checkpoint_data={\n",
    "                'iteration': iteration,\n",
    "                'cost': float(cost_before),\n",
    "                **{f'theta{i}': float(params[i]) for i in range(num_params)}\n",
    "            },\n",
    "            checkpoint_file_suffix=str(iteration)\n",
    "        )\n",
    "\n",
    "    print(\"Optimization completed\", end=\"\\n\\n\")\n",
    "    final_cost = float(cost(params))\n",
    "    print(f\"Cost after optimization: {final_cost}\")\n",
    "    print(f\"Parameters after optimization: {params.tolist()}\")\n",
    "\n",
    "    bit_strings = [\"{0:{fill}{length}b}\".format(i, fill='0', length=n) for i in range(2 ** n)]\n",
    "    optimized_probs = dict(zip(bit_strings, probs(params)))\n",
    "\n",
    "    result = {\n",
    "        'final_cost': float(cost_before),\n",
    "        'final_params': params,\n",
    "        'total_wall_time': total_time,\n",
    "        'probs': optimized_probs\n",
    "    }\n",
    "\n",
    "    return result"
   ]
  },
  {
   "cell_type": "code",
   "execution_count": 10,
   "id": "67d99294-6021-43b7-89d0-273d301b9fc6",
   "metadata": {
    "tags": []
   },
   "outputs": [],
   "source": [
    "@hybrid_job(\n",
    "    device=\"arn:aws:braket:eu-north-1::device/qpu/iqm/Garnet\",\n",
    "    # device=\"local:pennylane/lightning.qubit\",\n",
    "    include_modules=\"device_helper\"\n",
    ")\n",
    "def VQAO_hybrid(\n",
    "    N=16, q=4, p=2, n=4, shots=960, step_size=0.01, n_iterations=300\n",
    "):\n",
    "    print(f\"{get_job_name()} execution started\")\n",
    "    task_tracker = Tracker().start()\n",
    "\n",
    "    device = DeviceHelper.get_pennylane_device(\n",
    "        device_arn=get_job_device_arn(),\n",
    "        n_qubits=n\n",
    "    )\n",
    "\n",
    "    device.shots = shots\n",
    "    print(device.name)\n",
    "\n",
    "    result = run_VQAO(\n",
    "        N=N, q=q, p=p, n=n, device=device,\n",
    "        step_size=step_size, n_iterations=n_iterations\n",
    "    )\n",
    "\n",
    "    task_tracker.stop()\n",
    "    return {\n",
    "        \"parameters\": result['final_params'].tolist(),\n",
    "        \"sampled probs\": result['probs'],\n",
    "        \"optimized_cost\": result['final_cost'],\n",
    "        \"total_wall_time\": result['total_wall_time'],\n",
    "        \"quantum task summary\": task_tracker.quantum_tasks_statistics(),\n",
    "        \"quantum task cost\": task_tracker.qpu_tasks_cost() + task_tracker.simulator_tasks_cost(),\n",
    "    }"
   ]
  },
  {
   "cell_type": "code",
   "execution_count": 11,
   "id": "ae73a656-dcb1-4bb9-90da-a6a3325d9ce1",
   "metadata": {
    "scrolled": true,
    "tags": []
   },
   "outputs": [
    {
     "name": "stdout",
     "output_type": "stream",
     "text": [
      "arn:aws:braket:eu-north-1:671017667526:job/46166c3c-a3cb-4af5-93d3-e75e2246ffcf QUEUED\n"
     ]
    }
   ],
   "source": [
    "# job = run_VQAO(device=DeviceHelper.get_pennylane_device(\n",
    "#     device_arn='local:pennylane/lightning.qubit',\n",
    "#     n_qubits=n\n",
    "# ))\n",
    "\n",
    "job = VQAO_hybrid(n_iterations=100, shots=200, step_size=0.05)\n",
    "print(f\"{job.arn} {job.state()}\")"
   ]
  },
  {
   "cell_type": "code",
   "execution_count": 14,
   "id": "ed42ce83-e2ef-4619-ac7d-3130b30c66fa",
   "metadata": {
    "tags": []
   },
   "outputs": [
    {
     "data": {
      "text/plain": [
       "'RUNNING'"
      ]
     },
     "execution_count": 14,
     "metadata": {},
     "output_type": "execute_result"
    }
   ],
   "source": [
    "job.state()"
   ]
  },
  {
   "cell_type": "code",
   "execution_count": 18,
   "id": "c7d40dd8-0c50-40c5-b9f1-fd96b6017e64",
   "metadata": {
    "tags": []
   },
   "outputs": [],
   "source": [
    "job_result = job.result()"
   ]
  },
  {
   "cell_type": "code",
   "execution_count": 19,
   "id": "d93962b8-8ae6-41d6-95c6-255bacf80347",
   "metadata": {
    "tags": []
   },
   "outputs": [
    {
     "name": "stdout",
     "output_type": "stream",
     "text": [
      "Job Summary\n",
      "  Total number of quantum tasks: {'COMPLETED': 1252}\n",
      "  Total number of shots (all tasks): 250400\n",
      "  Estimated cost for all quantum tasks in this job ($): 738.6800000000\n",
      "  Job instance execution time on ml.m5.large: 0:51:29\n"
     ]
    }
   ],
   "source": [
    "job_metadata = job.metadata()\n",
    "device_arn = job.metadata()['deviceConfig']['device']\n",
    "\n",
    "print(\"Job Summary\")\n",
    "if device_arn.startswith('arn'):\n",
    "    print(f\"  Total number of quantum tasks: {job_result['quantum task summary'][device_arn]['tasks']}\")\n",
    "    print(f\"  Total number of shots (all tasks): {job_result['quantum task summary'][device_arn]['shots']}\")\n",
    "print(f\"  Estimated cost for all quantum tasks in this job ($): {job_result['quantum task cost']}\")\n",
    "print(f\"  Job instance execution time on {job_metadata['instanceConfig']['instanceType']}: {timedelta(milliseconds=job_metadata['billableDuration'])}\")"
   ]
  },
  {
   "cell_type": "code",
   "execution_count": 20,
   "id": "e19701ec-bc61-4b50-8443-f05499d7fbe5",
   "metadata": {
    "tags": []
   },
   "outputs": [],
   "source": [
    "df = pd.DataFrame(job.metrics(metric_type=MetricType.ITERATION_NUMBER))\n",
    "df.sort_values(by=[\"iteration_number\"], inplace=True)"
   ]
  },
  {
   "cell_type": "code",
   "execution_count": 21,
   "id": "6d2e9a98-61d5-49d5-b2ed-1fec8e2777d5",
   "metadata": {
    "tags": []
   },
   "outputs": [],
   "source": [
    "# df.to_csv('output_200_100.csv', index=False)"
   ]
  },
  {
   "cell_type": "code",
   "execution_count": 22,
   "id": "9dc435a9-ba4c-4a37-b6c9-28bc607923de",
   "metadata": {
    "scrolled": true,
    "tags": []
   },
   "outputs": [
    {
     "data": {
      "text/html": [
       "<div>\n",
       "<style scoped>\n",
       "    .dataframe tbody tr th:only-of-type {\n",
       "        vertical-align: middle;\n",
       "    }\n",
       "\n",
       "    .dataframe tbody tr th {\n",
       "        vertical-align: top;\n",
       "    }\n",
       "\n",
       "    .dataframe thead th {\n",
       "        text-align: right;\n",
       "    }\n",
       "</style>\n",
       "<table border=\"1\" class=\"dataframe\">\n",
       "  <thead>\n",
       "    <tr style=\"text-align: right;\">\n",
       "      <th></th>\n",
       "      <th>timestamp</th>\n",
       "      <th>time</th>\n",
       "      <th>iteration_number</th>\n",
       "      <th>theta0</th>\n",
       "      <th>theta1</th>\n",
       "      <th>theta2</th>\n",
       "      <th>theta3</th>\n",
       "      <th>theta4</th>\n",
       "      <th>theta5</th>\n",
       "      <th>theta6</th>\n",
       "      <th>theta7</th>\n",
       "      <th>theta8</th>\n",
       "      <th>theta9</th>\n",
       "      <th>theta10</th>\n",
       "      <th>theta11</th>\n",
       "      <th>cost</th>\n",
       "    </tr>\n",
       "  </thead>\n",
       "  <tbody>\n",
       "    <tr>\n",
       "      <th>4</th>\n",
       "      <td>1.719306e+09</td>\n",
       "      <td>2766.562348</td>\n",
       "      <td>45.0</td>\n",
       "      <td>0.521951</td>\n",
       "      <td>0.331203</td>\n",
       "      <td>-0.991258</td>\n",
       "      <td>0.387409</td>\n",
       "      <td>1.107065</td>\n",
       "      <td>1.502748</td>\n",
       "      <td>-1.445063</td>\n",
       "      <td>-0.729032</td>\n",
       "      <td>-1.388363</td>\n",
       "      <td>-0.496794</td>\n",
       "      <td>-1.788685</td>\n",
       "      <td>-0.242311</td>\n",
       "      <td>-0.129575</td>\n",
       "    </tr>\n",
       "    <tr>\n",
       "      <th>3</th>\n",
       "      <td>1.719306e+09</td>\n",
       "      <td>2823.624029</td>\n",
       "      <td>46.0</td>\n",
       "      <td>0.524313</td>\n",
       "      <td>0.327970</td>\n",
       "      <td>-0.991897</td>\n",
       "      <td>0.391599</td>\n",
       "      <td>1.110975</td>\n",
       "      <td>1.499288</td>\n",
       "      <td>-1.443012</td>\n",
       "      <td>-0.718573</td>\n",
       "      <td>-1.388169</td>\n",
       "      <td>-0.495195</td>\n",
       "      <td>-1.790856</td>\n",
       "      <td>-0.241495</td>\n",
       "      <td>-0.130365</td>\n",
       "    </tr>\n",
       "    <tr>\n",
       "      <th>2</th>\n",
       "      <td>1.719306e+09</td>\n",
       "      <td>2892.518832</td>\n",
       "      <td>47.0</td>\n",
       "      <td>0.526309</td>\n",
       "      <td>0.325408</td>\n",
       "      <td>-0.992380</td>\n",
       "      <td>0.395456</td>\n",
       "      <td>1.114799</td>\n",
       "      <td>1.494906</td>\n",
       "      <td>-1.440427</td>\n",
       "      <td>-0.707546</td>\n",
       "      <td>-1.387672</td>\n",
       "      <td>-0.493420</td>\n",
       "      <td>-1.792577</td>\n",
       "      <td>-0.239533</td>\n",
       "      <td>-0.124625</td>\n",
       "    </tr>\n",
       "    <tr>\n",
       "      <th>1</th>\n",
       "      <td>1.719306e+09</td>\n",
       "      <td>2952.208923</td>\n",
       "      <td>48.0</td>\n",
       "      <td>0.528421</td>\n",
       "      <td>0.322704</td>\n",
       "      <td>-0.993042</td>\n",
       "      <td>0.399343</td>\n",
       "      <td>1.118309</td>\n",
       "      <td>1.490397</td>\n",
       "      <td>-1.438076</td>\n",
       "      <td>-0.696537</td>\n",
       "      <td>-1.387413</td>\n",
       "      <td>-0.492013</td>\n",
       "      <td>-1.794436</td>\n",
       "      <td>-0.237896</td>\n",
       "      <td>-0.118447</td>\n",
       "    </tr>\n",
       "    <tr>\n",
       "      <th>0</th>\n",
       "      <td>1.719306e+09</td>\n",
       "      <td>3009.546735</td>\n",
       "      <td>49.0</td>\n",
       "      <td>0.530587</td>\n",
       "      <td>0.320030</td>\n",
       "      <td>-0.993383</td>\n",
       "      <td>0.403156</td>\n",
       "      <td>1.121871</td>\n",
       "      <td>1.485458</td>\n",
       "      <td>-1.435325</td>\n",
       "      <td>-0.685400</td>\n",
       "      <td>-1.387174</td>\n",
       "      <td>-0.490599</td>\n",
       "      <td>-1.796020</td>\n",
       "      <td>-0.236587</td>\n",
       "      <td>-0.131795</td>\n",
       "    </tr>\n",
       "  </tbody>\n",
       "</table>\n",
       "</div>"
      ],
      "text/plain": [
       "      timestamp         time  iteration_number    theta0    theta1    theta2  \\\n",
       "4  1.719306e+09  2766.562348              45.0  0.521951  0.331203 -0.991258   \n",
       "3  1.719306e+09  2823.624029              46.0  0.524313  0.327970 -0.991897   \n",
       "2  1.719306e+09  2892.518832              47.0  0.526309  0.325408 -0.992380   \n",
       "1  1.719306e+09  2952.208923              48.0  0.528421  0.322704 -0.993042   \n",
       "0  1.719306e+09  3009.546735              49.0  0.530587  0.320030 -0.993383   \n",
       "\n",
       "     theta3    theta4    theta5    theta6    theta7    theta8    theta9  \\\n",
       "4  0.387409  1.107065  1.502748 -1.445063 -0.729032 -1.388363 -0.496794   \n",
       "3  0.391599  1.110975  1.499288 -1.443012 -0.718573 -1.388169 -0.495195   \n",
       "2  0.395456  1.114799  1.494906 -1.440427 -0.707546 -1.387672 -0.493420   \n",
       "1  0.399343  1.118309  1.490397 -1.438076 -0.696537 -1.387413 -0.492013   \n",
       "0  0.403156  1.121871  1.485458 -1.435325 -0.685400 -1.387174 -0.490599   \n",
       "\n",
       "    theta10   theta11      cost  \n",
       "4 -1.788685 -0.242311 -0.129575  \n",
       "3 -1.790856 -0.241495 -0.130365  \n",
       "2 -1.792577 -0.239533 -0.124625  \n",
       "1 -1.794436 -0.237896 -0.118447  \n",
       "0 -1.796020 -0.236587 -0.131795  "
      ]
     },
     "execution_count": 22,
     "metadata": {},
     "output_type": "execute_result"
    }
   ],
   "source": [
    "df.tail()"
   ]
  },
  {
   "cell_type": "code",
   "execution_count": 24,
   "id": "9ccd9b25-17ce-43ec-9907-f801e12520ae",
   "metadata": {
    "tags": []
   },
   "outputs": [
    {
     "data": {
      "application/vnd.plotly.v1+json": {
       "config": {
        "plotlyServerURL": "https://plot.ly"
       },
       "data": [
        {
         "mode": "lines",
         "name": "VQAO",
         "type": "scatter",
         "x": [
          0,
          1,
          2,
          3,
          4,
          5,
          6,
          7,
          8,
          9,
          10,
          11,
          12,
          13,
          14,
          15,
          16,
          17,
          18,
          19,
          20,
          21,
          22,
          23,
          24,
          25,
          26,
          27,
          28,
          29,
          30,
          31,
          32,
          33,
          34,
          35,
          36,
          37,
          38,
          39,
          40,
          41,
          42,
          43,
          44,
          45,
          46,
          47,
          48,
          49
         ],
         "y": [
          0.025195120918465347,
          -0.018236837007623435,
          -0.011309521863532929,
          -0.04056938336229712,
          -0.041903370408617746,
          -0.02511866627852588,
          -0.020879418789174653,
          -0.07551309592219035,
          -0.04738960169055345,
          -0.08373346140428861,
          -0.052248679466529835,
          -0.06734321145943165,
          -0.07288050231387866,
          -0.07978222455013986,
          -0.09011432744954814,
          -0.09272792856587886,
          -0.08116380420320515,
          -0.08753864402136236,
          -0.08817033672750814,
          -0.07616632840526921,
          -0.10614923805017362,
          -0.0958215310763721,
          -0.10556500503813505,
          -0.09023489505667665,
          -0.10441583650559147,
          -0.09917601901333155,
          -0.0978655432218045,
          -0.11552622398911608,
          -0.10312704091177323,
          -0.10720060705640966,
          -0.12236201198802032,
          -0.11636967490692013,
          -0.12385656089045355,
          -0.11891946845672074,
          -0.11217954889191989,
          -0.12221677583997512,
          -0.12600036093602762,
          -0.1265560321177589,
          -0.11791770507189711,
          -0.11220608656297512,
          -0.12151434313922849,
          -0.12984612243485127,
          -0.11743629108147616,
          -0.11961196035395222,
          -0.12768024070797843,
          -0.1295749443443417,
          -0.1303652671627203,
          -0.12462483461394641,
          -0.11844687727115133,
          -0.13179493090302358
         ]
        },
        {
         "line": {
          "color": "black",
          "dash": "dash"
         },
         "mode": "lines",
         "name": "Global min",
         "type": "scatter",
         "x": [
          0,
          49
         ],
         "y": [
          -0.16076947613422413,
          -0.16076947613422413
         ]
        }
       ],
       "layout": {
        "height": 600,
        "legend": {
         "x": 1,
         "xanchor": "right",
         "y": 1,
         "yanchor": "top"
        },
        "template": {
         "data": {
          "bar": [
           {
            "error_x": {
             "color": "#2a3f5f"
            },
            "error_y": {
             "color": "#2a3f5f"
            },
            "marker": {
             "line": {
              "color": "white",
              "width": 0.5
             },
             "pattern": {
              "fillmode": "overlay",
              "size": 10,
              "solidity": 0.2
             }
            },
            "type": "bar"
           }
          ],
          "barpolar": [
           {
            "marker": {
             "line": {
              "color": "white",
              "width": 0.5
             },
             "pattern": {
              "fillmode": "overlay",
              "size": 10,
              "solidity": 0.2
             }
            },
            "type": "barpolar"
           }
          ],
          "carpet": [
           {
            "aaxis": {
             "endlinecolor": "#2a3f5f",
             "gridcolor": "#C8D4E3",
             "linecolor": "#C8D4E3",
             "minorgridcolor": "#C8D4E3",
             "startlinecolor": "#2a3f5f"
            },
            "baxis": {
             "endlinecolor": "#2a3f5f",
             "gridcolor": "#C8D4E3",
             "linecolor": "#C8D4E3",
             "minorgridcolor": "#C8D4E3",
             "startlinecolor": "#2a3f5f"
            },
            "type": "carpet"
           }
          ],
          "choropleth": [
           {
            "colorbar": {
             "outlinewidth": 0,
             "ticks": ""
            },
            "type": "choropleth"
           }
          ],
          "contour": [
           {
            "colorbar": {
             "outlinewidth": 0,
             "ticks": ""
            },
            "colorscale": [
             [
              0,
              "#0d0887"
             ],
             [
              0.1111111111111111,
              "#46039f"
             ],
             [
              0.2222222222222222,
              "#7201a8"
             ],
             [
              0.3333333333333333,
              "#9c179e"
             ],
             [
              0.4444444444444444,
              "#bd3786"
             ],
             [
              0.5555555555555556,
              "#d8576b"
             ],
             [
              0.6666666666666666,
              "#ed7953"
             ],
             [
              0.7777777777777778,
              "#fb9f3a"
             ],
             [
              0.8888888888888888,
              "#fdca26"
             ],
             [
              1,
              "#f0f921"
             ]
            ],
            "type": "contour"
           }
          ],
          "contourcarpet": [
           {
            "colorbar": {
             "outlinewidth": 0,
             "ticks": ""
            },
            "type": "contourcarpet"
           }
          ],
          "heatmap": [
           {
            "colorbar": {
             "outlinewidth": 0,
             "ticks": ""
            },
            "colorscale": [
             [
              0,
              "#0d0887"
             ],
             [
              0.1111111111111111,
              "#46039f"
             ],
             [
              0.2222222222222222,
              "#7201a8"
             ],
             [
              0.3333333333333333,
              "#9c179e"
             ],
             [
              0.4444444444444444,
              "#bd3786"
             ],
             [
              0.5555555555555556,
              "#d8576b"
             ],
             [
              0.6666666666666666,
              "#ed7953"
             ],
             [
              0.7777777777777778,
              "#fb9f3a"
             ],
             [
              0.8888888888888888,
              "#fdca26"
             ],
             [
              1,
              "#f0f921"
             ]
            ],
            "type": "heatmap"
           }
          ],
          "heatmapgl": [
           {
            "colorbar": {
             "outlinewidth": 0,
             "ticks": ""
            },
            "colorscale": [
             [
              0,
              "#0d0887"
             ],
             [
              0.1111111111111111,
              "#46039f"
             ],
             [
              0.2222222222222222,
              "#7201a8"
             ],
             [
              0.3333333333333333,
              "#9c179e"
             ],
             [
              0.4444444444444444,
              "#bd3786"
             ],
             [
              0.5555555555555556,
              "#d8576b"
             ],
             [
              0.6666666666666666,
              "#ed7953"
             ],
             [
              0.7777777777777778,
              "#fb9f3a"
             ],
             [
              0.8888888888888888,
              "#fdca26"
             ],
             [
              1,
              "#f0f921"
             ]
            ],
            "type": "heatmapgl"
           }
          ],
          "histogram": [
           {
            "marker": {
             "pattern": {
              "fillmode": "overlay",
              "size": 10,
              "solidity": 0.2
             }
            },
            "type": "histogram"
           }
          ],
          "histogram2d": [
           {
            "colorbar": {
             "outlinewidth": 0,
             "ticks": ""
            },
            "colorscale": [
             [
              0,
              "#0d0887"
             ],
             [
              0.1111111111111111,
              "#46039f"
             ],
             [
              0.2222222222222222,
              "#7201a8"
             ],
             [
              0.3333333333333333,
              "#9c179e"
             ],
             [
              0.4444444444444444,
              "#bd3786"
             ],
             [
              0.5555555555555556,
              "#d8576b"
             ],
             [
              0.6666666666666666,
              "#ed7953"
             ],
             [
              0.7777777777777778,
              "#fb9f3a"
             ],
             [
              0.8888888888888888,
              "#fdca26"
             ],
             [
              1,
              "#f0f921"
             ]
            ],
            "type": "histogram2d"
           }
          ],
          "histogram2dcontour": [
           {
            "colorbar": {
             "outlinewidth": 0,
             "ticks": ""
            },
            "colorscale": [
             [
              0,
              "#0d0887"
             ],
             [
              0.1111111111111111,
              "#46039f"
             ],
             [
              0.2222222222222222,
              "#7201a8"
             ],
             [
              0.3333333333333333,
              "#9c179e"
             ],
             [
              0.4444444444444444,
              "#bd3786"
             ],
             [
              0.5555555555555556,
              "#d8576b"
             ],
             [
              0.6666666666666666,
              "#ed7953"
             ],
             [
              0.7777777777777778,
              "#fb9f3a"
             ],
             [
              0.8888888888888888,
              "#fdca26"
             ],
             [
              1,
              "#f0f921"
             ]
            ],
            "type": "histogram2dcontour"
           }
          ],
          "mesh3d": [
           {
            "colorbar": {
             "outlinewidth": 0,
             "ticks": ""
            },
            "type": "mesh3d"
           }
          ],
          "parcoords": [
           {
            "line": {
             "colorbar": {
              "outlinewidth": 0,
              "ticks": ""
             }
            },
            "type": "parcoords"
           }
          ],
          "pie": [
           {
            "automargin": true,
            "type": "pie"
           }
          ],
          "scatter": [
           {
            "fillpattern": {
             "fillmode": "overlay",
             "size": 10,
             "solidity": 0.2
            },
            "type": "scatter"
           }
          ],
          "scatter3d": [
           {
            "line": {
             "colorbar": {
              "outlinewidth": 0,
              "ticks": ""
             }
            },
            "marker": {
             "colorbar": {
              "outlinewidth": 0,
              "ticks": ""
             }
            },
            "type": "scatter3d"
           }
          ],
          "scattercarpet": [
           {
            "marker": {
             "colorbar": {
              "outlinewidth": 0,
              "ticks": ""
             }
            },
            "type": "scattercarpet"
           }
          ],
          "scattergeo": [
           {
            "marker": {
             "colorbar": {
              "outlinewidth": 0,
              "ticks": ""
             }
            },
            "type": "scattergeo"
           }
          ],
          "scattergl": [
           {
            "marker": {
             "colorbar": {
              "outlinewidth": 0,
              "ticks": ""
             }
            },
            "type": "scattergl"
           }
          ],
          "scattermapbox": [
           {
            "marker": {
             "colorbar": {
              "outlinewidth": 0,
              "ticks": ""
             }
            },
            "type": "scattermapbox"
           }
          ],
          "scatterpolar": [
           {
            "marker": {
             "colorbar": {
              "outlinewidth": 0,
              "ticks": ""
             }
            },
            "type": "scatterpolar"
           }
          ],
          "scatterpolargl": [
           {
            "marker": {
             "colorbar": {
              "outlinewidth": 0,
              "ticks": ""
             }
            },
            "type": "scatterpolargl"
           }
          ],
          "scatterternary": [
           {
            "marker": {
             "colorbar": {
              "outlinewidth": 0,
              "ticks": ""
             }
            },
            "type": "scatterternary"
           }
          ],
          "surface": [
           {
            "colorbar": {
             "outlinewidth": 0,
             "ticks": ""
            },
            "colorscale": [
             [
              0,
              "#0d0887"
             ],
             [
              0.1111111111111111,
              "#46039f"
             ],
             [
              0.2222222222222222,
              "#7201a8"
             ],
             [
              0.3333333333333333,
              "#9c179e"
             ],
             [
              0.4444444444444444,
              "#bd3786"
             ],
             [
              0.5555555555555556,
              "#d8576b"
             ],
             [
              0.6666666666666666,
              "#ed7953"
             ],
             [
              0.7777777777777778,
              "#fb9f3a"
             ],
             [
              0.8888888888888888,
              "#fdca26"
             ],
             [
              1,
              "#f0f921"
             ]
            ],
            "type": "surface"
           }
          ],
          "table": [
           {
            "cells": {
             "fill": {
              "color": "#EBF0F8"
             },
             "line": {
              "color": "white"
             }
            },
            "header": {
             "fill": {
              "color": "#C8D4E3"
             },
             "line": {
              "color": "white"
             }
            },
            "type": "table"
           }
          ]
         },
         "layout": {
          "annotationdefaults": {
           "arrowcolor": "#2a3f5f",
           "arrowhead": 0,
           "arrowwidth": 1
          },
          "autotypenumbers": "strict",
          "coloraxis": {
           "colorbar": {
            "outlinewidth": 0,
            "ticks": ""
           }
          },
          "colorscale": {
           "diverging": [
            [
             0,
             "#8e0152"
            ],
            [
             0.1,
             "#c51b7d"
            ],
            [
             0.2,
             "#de77ae"
            ],
            [
             0.3,
             "#f1b6da"
            ],
            [
             0.4,
             "#fde0ef"
            ],
            [
             0.5,
             "#f7f7f7"
            ],
            [
             0.6,
             "#e6f5d0"
            ],
            [
             0.7,
             "#b8e186"
            ],
            [
             0.8,
             "#7fbc41"
            ],
            [
             0.9,
             "#4d9221"
            ],
            [
             1,
             "#276419"
            ]
           ],
           "sequential": [
            [
             0,
             "#0d0887"
            ],
            [
             0.1111111111111111,
             "#46039f"
            ],
            [
             0.2222222222222222,
             "#7201a8"
            ],
            [
             0.3333333333333333,
             "#9c179e"
            ],
            [
             0.4444444444444444,
             "#bd3786"
            ],
            [
             0.5555555555555556,
             "#d8576b"
            ],
            [
             0.6666666666666666,
             "#ed7953"
            ],
            [
             0.7777777777777778,
             "#fb9f3a"
            ],
            [
             0.8888888888888888,
             "#fdca26"
            ],
            [
             1,
             "#f0f921"
            ]
           ],
           "sequentialminus": [
            [
             0,
             "#0d0887"
            ],
            [
             0.1111111111111111,
             "#46039f"
            ],
            [
             0.2222222222222222,
             "#7201a8"
            ],
            [
             0.3333333333333333,
             "#9c179e"
            ],
            [
             0.4444444444444444,
             "#bd3786"
            ],
            [
             0.5555555555555556,
             "#d8576b"
            ],
            [
             0.6666666666666666,
             "#ed7953"
            ],
            [
             0.7777777777777778,
             "#fb9f3a"
            ],
            [
             0.8888888888888888,
             "#fdca26"
            ],
            [
             1,
             "#f0f921"
            ]
           ]
          },
          "colorway": [
           "#636efa",
           "#EF553B",
           "#00cc96",
           "#ab63fa",
           "#FFA15A",
           "#19d3f3",
           "#FF6692",
           "#B6E880",
           "#FF97FF",
           "#FECB52"
          ],
          "font": {
           "color": "#2a3f5f"
          },
          "geo": {
           "bgcolor": "white",
           "lakecolor": "white",
           "landcolor": "white",
           "showlakes": true,
           "showland": true,
           "subunitcolor": "#C8D4E3"
          },
          "hoverlabel": {
           "align": "left"
          },
          "hovermode": "closest",
          "mapbox": {
           "style": "light"
          },
          "paper_bgcolor": "white",
          "plot_bgcolor": "white",
          "polar": {
           "angularaxis": {
            "gridcolor": "#EBF0F8",
            "linecolor": "#EBF0F8",
            "ticks": ""
           },
           "bgcolor": "white",
           "radialaxis": {
            "gridcolor": "#EBF0F8",
            "linecolor": "#EBF0F8",
            "ticks": ""
           }
          },
          "scene": {
           "xaxis": {
            "backgroundcolor": "white",
            "gridcolor": "#DFE8F3",
            "gridwidth": 2,
            "linecolor": "#EBF0F8",
            "showbackground": true,
            "ticks": "",
            "zerolinecolor": "#EBF0F8"
           },
           "yaxis": {
            "backgroundcolor": "white",
            "gridcolor": "#DFE8F3",
            "gridwidth": 2,
            "linecolor": "#EBF0F8",
            "showbackground": true,
            "ticks": "",
            "zerolinecolor": "#EBF0F8"
           },
           "zaxis": {
            "backgroundcolor": "white",
            "gridcolor": "#DFE8F3",
            "gridwidth": 2,
            "linecolor": "#EBF0F8",
            "showbackground": true,
            "ticks": "",
            "zerolinecolor": "#EBF0F8"
           }
          },
          "shapedefaults": {
           "line": {
            "color": "#2a3f5f"
           }
          },
          "ternary": {
           "aaxis": {
            "gridcolor": "#DFE8F3",
            "linecolor": "#A2B1C6",
            "ticks": ""
           },
           "baxis": {
            "gridcolor": "#DFE8F3",
            "linecolor": "#A2B1C6",
            "ticks": ""
           },
           "bgcolor": "white",
           "caxis": {
            "gridcolor": "#DFE8F3",
            "linecolor": "#A2B1C6",
            "ticks": ""
           }
          },
          "title": {
           "x": 0.05
          },
          "xaxis": {
           "automargin": true,
           "gridcolor": "#EBF0F8",
           "linecolor": "#EBF0F8",
           "ticks": "",
           "title": {
            "standoff": 15
           },
           "zerolinecolor": "#EBF0F8",
           "zerolinewidth": 2
          },
          "yaxis": {
           "automargin": true,
           "gridcolor": "#EBF0F8",
           "linecolor": "#EBF0F8",
           "ticks": "",
           "title": {
            "standoff": 15
           },
           "zerolinecolor": "#EBF0F8",
           "zerolinewidth": 2
          }
         }
        },
        "width": 950,
        "xaxis": {
         "autorange": true,
         "range": [
          0,
          49
         ],
         "title": {
          "text": "Steps"
         },
         "type": "linear"
        },
        "yaxis": {
         "autorange": true,
         "range": [
          -0.1711008426371513,
          0.03552648742139254
         ],
         "title": {
          "text": "Cost"
         },
         "type": "linear"
        }
       }
      },
      "image/png": "[encoded data removed]",
      "text/html": [
       "<div>                            <div id=\"2d05b8fa-6855-412d-8e5c-5f4e76178c94\" class=\"plotly-graph-div\" style=\"height:600px; width:950px;\"></div>            <script type=\"text/javascript\">                require([\"plotly\"], function(Plotly) {                    window.PLOTLYENV=window.PLOTLYENV || {};                                    if (document.getElementById(\"2d05b8fa-6855-412d-8e5c-5f4e76178c94\")) {                    Plotly.newPlot(                        \"2d05b8fa-6855-412d-8e5c-5f4e76178c94\",                        [{\"mode\":\"lines\",\"name\":\"VQAO\",\"x\":[0.0,1.0,2.0,3.0,4.0,5.0,6.0,7.0,8.0,9.0,10.0,11.0,12.0,13.0,14.0,15.0,16.0,17.0,18.0,19.0,20.0,21.0,22.0,23.0,24.0,25.0,26.0,27.0,28.0,29.0,30.0,31.0,32.0,33.0,34.0,35.0,36.0,37.0,38.0,39.0,40.0,41.0,42.0,43.0,44.0,45.0,46.0,47.0,48.0,49.0],\"y\":[0.025195120918465347,-0.018236837007623435,-0.011309521863532929,-0.04056938336229712,-0.041903370408617746,-0.02511866627852588,-0.020879418789174653,-0.07551309592219035,-0.04738960169055345,-0.08373346140428861,-0.052248679466529835,-0.06734321145943165,-0.07288050231387866,-0.07978222455013986,-0.09011432744954814,-0.09272792856587886,-0.08116380420320515,-0.08753864402136236,-0.08817033672750814,-0.07616632840526921,-0.10614923805017362,-0.0958215310763721,-0.10556500503813505,-0.09023489505667665,-0.10441583650559147,-0.09917601901333155,-0.0978655432218045,-0.11552622398911608,-0.10312704091177323,-0.10720060705640966,-0.12236201198802032,-0.11636967490692013,-0.12385656089045355,-0.11891946845672074,-0.11217954889191989,-0.12221677583997512,-0.12600036093602762,-0.1265560321177589,-0.11791770507189711,-0.11220608656297512,-0.12151434313922849,-0.12984612243485127,-0.11743629108147616,-0.11961196035395222,-0.12768024070797843,-0.1295749443443417,-0.1303652671627203,-0.12462483461394641,-0.11844687727115133,-0.13179493090302358],\"type\":\"scatter\"},{\"line\":{\"color\":\"black\",\"dash\":\"dash\"},\"mode\":\"lines\",\"name\":\"Global min\",\"x\":[0.0,49.0],\"y\":[-0.16076947613422413,-0.16076947613422413],\"type\":\"scatter\"}],                        {\"template\":{\"data\":{\"barpolar\":[{\"marker\":{\"line\":{\"color\":\"white\",\"width\":0.5},\"pattern\":{\"fillmode\":\"overlay\",\"size\":10,\"solidity\":0.2}},\"type\":\"barpolar\"}],\"bar\":[{\"error_x\":{\"color\":\"#2a3f5f\"},\"error_y\":{\"color\":\"#2a3f5f\"},\"marker\":{\"line\":{\"color\":\"white\",\"width\":0.5},\"pattern\":{\"fillmode\":\"overlay\",\"size\":10,\"solidity\":0.2}},\"type\":\"bar\"}],\"carpet\":[{\"aaxis\":{\"endlinecolor\":\"#2a3f5f\",\"gridcolor\":\"#C8D4E3\",\"linecolor\":\"#C8D4E3\",\"minorgridcolor\":\"#C8D4E3\",\"startlinecolor\":\"#2a3f5f\"},\"baxis\":{\"endlinecolor\":\"#2a3f5f\",\"gridcolor\":\"#C8D4E3\",\"linecolor\":\"#C8D4E3\",\"minorgridcolor\":\"#C8D4E3\",\"startlinecolor\":\"#2a3f5f\"},\"type\":\"carpet\"}],\"choropleth\":[{\"colorbar\":{\"outlinewidth\":0,\"ticks\":\"\"},\"type\":\"choropleth\"}],\"contourcarpet\":[{\"colorbar\":{\"outlinewidth\":0,\"ticks\":\"\"},\"type\":\"contourcarpet\"}],\"contour\":[{\"colorbar\":{\"outlinewidth\":0,\"ticks\":\"\"},\"colorscale\":[[0.0,\"#0d0887\"],[0.1111111111111111,\"#46039f\"],[0.2222222222222222,\"#7201a8\"],[0.3333333333333333,\"#9c179e\"],[0.4444444444444444,\"#bd3786\"],[0.5555555555555556,\"#d8576b\"],[0.6666666666666666,\"#ed7953\"],[0.7777777777777778,\"#fb9f3a\"],[0.8888888888888888,\"#fdca26\"],[1.0,\"#f0f921\"]],\"type\":\"contour\"}],\"heatmapgl\":[{\"colorbar\":{\"outlinewidth\":0,\"ticks\":\"\"},\"colorscale\":[[0.0,\"#0d0887\"],[0.1111111111111111,\"#46039f\"],[0.2222222222222222,\"#7201a8\"],[0.3333333333333333,\"#9c179e\"],[0.4444444444444444,\"#bd3786\"],[0.5555555555555556,\"#d8576b\"],[0.6666666666666666,\"#ed7953\"],[0.7777777777777778,\"#fb9f3a\"],[0.8888888888888888,\"#fdca26\"],[1.0,\"#f0f921\"]],\"type\":\"heatmapgl\"}],\"heatmap\":[{\"colorbar\":{\"outlinewidth\":0,\"ticks\":\"\"},\"colorscale\":[[0.0,\"#0d0887\"],[0.1111111111111111,\"#46039f\"],[0.2222222222222222,\"#7201a8\"],[0.3333333333333333,\"#9c179e\"],[0.4444444444444444,\"#bd3786\"],[0.5555555555555556,\"#d8576b\"],[0.6666666666666666,\"#ed7953\"],[0.7777777777777778,\"#fb9f3a\"],[0.8888888888888888,\"#fdca26\"],[1.0,\"#f0f921\"]],\"type\":\"heatmap\"}],\"histogram2dcontour\":[{\"colorbar\":{\"outlinewidth\":0,\"ticks\":\"\"},\"colorscale\":[[0.0,\"#0d0887\"],[0.1111111111111111,\"#46039f\"],[0.2222222222222222,\"#7201a8\"],[0.3333333333333333,\"#9c179e\"],[0.4444444444444444,\"#bd3786\"],[0.5555555555555556,\"#d8576b\"],[0.6666666666666666,\"#ed7953\"],[0.7777777777777778,\"#fb9f3a\"],[0.8888888888888888,\"#fdca26\"],[1.0,\"#f0f921\"]],\"type\":\"histogram2dcontour\"}],\"histogram2d\":[{\"colorbar\":{\"outlinewidth\":0,\"ticks\":\"\"},\"colorscale\":[[0.0,\"#0d0887\"],[0.1111111111111111,\"#46039f\"],[0.2222222222222222,\"#7201a8\"],[0.3333333333333333,\"#9c179e\"],[0.4444444444444444,\"#bd3786\"],[0.5555555555555556,\"#d8576b\"],[0.6666666666666666,\"#ed7953\"],[0.7777777777777778,\"#fb9f3a\"],[0.8888888888888888,\"#fdca26\"],[1.0,\"#f0f921\"]],\"type\":\"histogram2d\"}],\"histogram\":[{\"marker\":{\"pattern\":{\"fillmode\":\"overlay\",\"size\":10,\"solidity\":0.2}},\"type\":\"histogram\"}],\"mesh3d\":[{\"colorbar\":{\"outlinewidth\":0,\"ticks\":\"\"},\"type\":\"mesh3d\"}],\"parcoords\":[{\"line\":{\"colorbar\":{\"outlinewidth\":0,\"ticks\":\"\"}},\"type\":\"parcoords\"}],\"pie\":[{\"automargin\":true,\"type\":\"pie\"}],\"scatter3d\":[{\"line\":{\"colorbar\":{\"outlinewidth\":0,\"ticks\":\"\"}},\"marker\":{\"colorbar\":{\"outlinewidth\":0,\"ticks\":\"\"}},\"type\":\"scatter3d\"}],\"scattercarpet\":[{\"marker\":{\"colorbar\":{\"outlinewidth\":0,\"ticks\":\"\"}},\"type\":\"scattercarpet\"}],\"scattergeo\":[{\"marker\":{\"colorbar\":{\"outlinewidth\":0,\"ticks\":\"\"}},\"type\":\"scattergeo\"}],\"scattergl\":[{\"marker\":{\"colorbar\":{\"outlinewidth\":0,\"ticks\":\"\"}},\"type\":\"scattergl\"}],\"scattermapbox\":[{\"marker\":{\"colorbar\":{\"outlinewidth\":0,\"ticks\":\"\"}},\"type\":\"scattermapbox\"}],\"scatterpolargl\":[{\"marker\":{\"colorbar\":{\"outlinewidth\":0,\"ticks\":\"\"}},\"type\":\"scatterpolargl\"}],\"scatterpolar\":[{\"marker\":{\"colorbar\":{\"outlinewidth\":0,\"ticks\":\"\"}},\"type\":\"scatterpolar\"}],\"scatter\":[{\"fillpattern\":{\"fillmode\":\"overlay\",\"size\":10,\"solidity\":0.2},\"type\":\"scatter\"}],\"scatterternary\":[{\"marker\":{\"colorbar\":{\"outlinewidth\":0,\"ticks\":\"\"}},\"type\":\"scatterternary\"}],\"surface\":[{\"colorbar\":{\"outlinewidth\":0,\"ticks\":\"\"},\"colorscale\":[[0.0,\"#0d0887\"],[0.1111111111111111,\"#46039f\"],[0.2222222222222222,\"#7201a8\"],[0.3333333333333333,\"#9c179e\"],[0.4444444444444444,\"#bd3786\"],[0.5555555555555556,\"#d8576b\"],[0.6666666666666666,\"#ed7953\"],[0.7777777777777778,\"#fb9f3a\"],[0.8888888888888888,\"#fdca26\"],[1.0,\"#f0f921\"]],\"type\":\"surface\"}],\"table\":[{\"cells\":{\"fill\":{\"color\":\"#EBF0F8\"},\"line\":{\"color\":\"white\"}},\"header\":{\"fill\":{\"color\":\"#C8D4E3\"},\"line\":{\"color\":\"white\"}},\"type\":\"table\"}]},\"layout\":{\"annotationdefaults\":{\"arrowcolor\":\"#2a3f5f\",\"arrowhead\":0,\"arrowwidth\":1},\"autotypenumbers\":\"strict\",\"coloraxis\":{\"colorbar\":{\"outlinewidth\":0,\"ticks\":\"\"}},\"colorscale\":{\"diverging\":[[0,\"#8e0152\"],[0.1,\"#c51b7d\"],[0.2,\"#de77ae\"],[0.3,\"#f1b6da\"],[0.4,\"#fde0ef\"],[0.5,\"#f7f7f7\"],[0.6,\"#e6f5d0\"],[0.7,\"#b8e186\"],[0.8,\"#7fbc41\"],[0.9,\"#4d9221\"],[1,\"#276419\"]],\"sequential\":[[0.0,\"#0d0887\"],[0.1111111111111111,\"#46039f\"],[0.2222222222222222,\"#7201a8\"],[0.3333333333333333,\"#9c179e\"],[0.4444444444444444,\"#bd3786\"],[0.5555555555555556,\"#d8576b\"],[0.6666666666666666,\"#ed7953\"],[0.7777777777777778,\"#fb9f3a\"],[0.8888888888888888,\"#fdca26\"],[1.0,\"#f0f921\"]],\"sequentialminus\":[[0.0,\"#0d0887\"],[0.1111111111111111,\"#46039f\"],[0.2222222222222222,\"#7201a8\"],[0.3333333333333333,\"#9c179e\"],[0.4444444444444444,\"#bd3786\"],[0.5555555555555556,\"#d8576b\"],[0.6666666666666666,\"#ed7953\"],[0.7777777777777778,\"#fb9f3a\"],[0.8888888888888888,\"#fdca26\"],[1.0,\"#f0f921\"]]},\"colorway\":[\"#636efa\",\"#EF553B\",\"#00cc96\",\"#ab63fa\",\"#FFA15A\",\"#19d3f3\",\"#FF6692\",\"#B6E880\",\"#FF97FF\",\"#FECB52\"],\"font\":{\"color\":\"#2a3f5f\"},\"geo\":{\"bgcolor\":\"white\",\"lakecolor\":\"white\",\"landcolor\":\"white\",\"showlakes\":true,\"showland\":true,\"subunitcolor\":\"#C8D4E3\"},\"hoverlabel\":{\"align\":\"left\"},\"hovermode\":\"closest\",\"mapbox\":{\"style\":\"light\"},\"paper_bgcolor\":\"white\",\"plot_bgcolor\":\"white\",\"polar\":{\"angularaxis\":{\"gridcolor\":\"#EBF0F8\",\"linecolor\":\"#EBF0F8\",\"ticks\":\"\"},\"bgcolor\":\"white\",\"radialaxis\":{\"gridcolor\":\"#EBF0F8\",\"linecolor\":\"#EBF0F8\",\"ticks\":\"\"}},\"scene\":{\"xaxis\":{\"backgroundcolor\":\"white\",\"gridcolor\":\"#DFE8F3\",\"gridwidth\":2,\"linecolor\":\"#EBF0F8\",\"showbackground\":true,\"ticks\":\"\",\"zerolinecolor\":\"#EBF0F8\"},\"yaxis\":{\"backgroundcolor\":\"white\",\"gridcolor\":\"#DFE8F3\",\"gridwidth\":2,\"linecolor\":\"#EBF0F8\",\"showbackground\":true,\"ticks\":\"\",\"zerolinecolor\":\"#EBF0F8\"},\"zaxis\":{\"backgroundcolor\":\"white\",\"gridcolor\":\"#DFE8F3\",\"gridwidth\":2,\"linecolor\":\"#EBF0F8\",\"showbackground\":true,\"ticks\":\"\",\"zerolinecolor\":\"#EBF0F8\"}},\"shapedefaults\":{\"line\":{\"color\":\"#2a3f5f\"}},\"ternary\":{\"aaxis\":{\"gridcolor\":\"#DFE8F3\",\"linecolor\":\"#A2B1C6\",\"ticks\":\"\"},\"baxis\":{\"gridcolor\":\"#DFE8F3\",\"linecolor\":\"#A2B1C6\",\"ticks\":\"\"},\"bgcolor\":\"white\",\"caxis\":{\"gridcolor\":\"#DFE8F3\",\"linecolor\":\"#A2B1C6\",\"ticks\":\"\"}},\"title\":{\"x\":0.05},\"xaxis\":{\"automargin\":true,\"gridcolor\":\"#EBF0F8\",\"linecolor\":\"#EBF0F8\",\"ticks\":\"\",\"title\":{\"standoff\":15},\"zerolinecolor\":\"#EBF0F8\",\"zerolinewidth\":2},\"yaxis\":{\"automargin\":true,\"gridcolor\":\"#EBF0F8\",\"linecolor\":\"#EBF0F8\",\"ticks\":\"\",\"title\":{\"standoff\":15},\"zerolinecolor\":\"#EBF0F8\",\"zerolinewidth\":2}}},\"xaxis\":{\"title\":{\"text\":\"Steps\"}},\"yaxis\":{\"title\":{\"text\":\"Cost\"}},\"width\":950,\"height\":600,\"legend\":{\"x\":1,\"y\":1,\"xanchor\":\"right\",\"yanchor\":\"top\"}},                        {\"responsive\": true}                    ).then(function(){\n",
       "                            \n",
       "var gd = document.getElementById('2d05b8fa-6855-412d-8e5c-5f4e76178c94');\n",
       "var x = new MutationObserver(function (mutations, observer) {{\n",
       "        var display = window.getComputedStyle(gd).display;\n",
       "        if (!display || display === 'none') {{\n",
       "            console.log([gd, 'removed!']);\n",
       "            Plotly.purge(gd);\n",
       "            observer.disconnect();\n",
       "        }}\n",
       "}});\n",
       "\n",
       "// Listen for the removal of the full notebook cells\n",
       "var notebookContainer = gd.closest('#notebook-container');\n",
       "if (notebookContainer) {{\n",
       "    x.observe(notebookContainer, {childList: true});\n",
       "}}\n",
       "\n",
       "// Listen for the clearing of the current output cell\n",
       "var outputEl = gd.closest('.output');\n",
       "if (outputEl) {{\n",
       "    x.observe(outputEl, {childList: true});\n",
       "}}\n",
       "\n",
       "                        })                };                });            </script>        </div>"
      ]
     },
     "metadata": {},
     "output_type": "display_data"
    }
   ],
   "source": [
    "fig = go.Figure()\n",
    "min = -0.16076947613422413\n",
    "\n",
    "fig.add_trace(go.Scatter(\n",
    "    x=df[\"iteration_number\"],\n",
    "    y=df[\"cost\"], mode='lines',\n",
    "    name='VQAO'))\n",
    "fig.add_trace(go.Scatter(\n",
    "    x=[df[\"iteration_number\"].min(), df[\"iteration_number\"].max()],\n",
    "    y=[min, min],\n",
    "    mode='lines',\n",
    "    name='Global min',\n",
    "    line=dict(dash='dash', color='black')\n",
    "))\n",
    "fig.update_layout(\n",
    "    xaxis_title=\"Steps\",\n",
    "    yaxis_title=\"Cost\",\n",
    "    template=\"plotly_white\",\n",
    "    width=950,\n",
    "    height=600\n",
    ")\n",
    "fig.update_layout(\n",
    "    legend=dict(\n",
    "        x=1,\n",
    "        y=1,\n",
    "        xanchor='right',\n",
    "        yanchor='top'\n",
    "    )\n",
    ")\n",
    "fig.show()"
   ]
  },
  {
   "cell_type": "code",
   "execution_count": 25,
   "id": "de302cd3-8310-4d1c-9621-3eea6031ef9b",
   "metadata": {
    "tags": []
   },
   "outputs": [
    {
     "name": "stdout",
     "output_type": "stream",
     "text": [
      "-0.13179493090302358\n"
     ]
    }
   ],
   "source": [
    "optimized_cost = np.min(df['cost'])\n",
    "print(optimized_cost)"
   ]
  },
  {
   "cell_type": "code",
   "execution_count": null,
   "id": "2c15cb28-35c6-41d3-b705-1491c6bf670e",
   "metadata": {},
   "outputs": [],
   "source": []
  }
 ],
 "metadata": {
  "kernelspec": {
   "display_name": "conda_braket",
   "language": "python",
   "name": "conda_braket"
  },
  "language_info": {
   "codemirror_mode": {
    "name": "ipython",
    "version": 3
   },
   "file_extension": ".py",
   "mimetype": "text/x-python",
   "name": "python",
   "nbconvert_exporter": "python",
   "pygments_lexer": "ipython3",
   "version": "3.10.14"
  }
 },
 "nbformat": 4,
 "nbformat_minor": 5
}
